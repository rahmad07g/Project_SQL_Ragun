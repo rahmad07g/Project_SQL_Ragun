{
 "cells": [
  {
   "cell_type": "code",
   "execution_count": 1,
   "metadata": {},
   "outputs": [],
   "source": [
    "# pip install faker\n",
    "# pip install psycopg2-binary"
   ]
  },
  {
   "cell_type": "code",
   "execution_count": 2,
   "metadata": {},
   "outputs": [],
   "source": [
    "import psycopg2  # mengimpor modul psycopg2 untuk koneksi ke database PostgreSQL\n",
    "import random  # mengimpor modul random untuk menghasilkan nilai acak\n",
    "import time  # mengimpor modul time untuk menambahkan penundaan waktu dalam program\n",
    "from faker import Faker  # mengimpor modul Faker untuk membuat data palsu"
   ]
  },
  {
   "cell_type": "code",
   "execution_count": 3,
   "metadata": {},
   "outputs": [],
   "source": [
    "fake = Faker('id_ID')  # inisialisasi objek Faker karena kita ingin menggunakan data indonesia maka menggunakan id_ID\n",
    "\n",
    "# Koneksi ke database PostgreSQL\n",
    "conn = psycopg2.connect(\n",
    "    host=\"localhost\",\n",
    "    port=\"5432\",\n",
    "    database=\"postgres\",\n",
    "    user=\"postgres\",\n",
    "    password=\"admin\"\n",
    ")\n",
    "\n",
    "cur = conn.cursor()  # kursor database yang digunakan untuk mengeksekusi perintah SQL pada database"
   ]
  },
  {
   "cell_type": "code",
   "execution_count": 5,
   "metadata": {},
   "outputs": [],
   "source": [
    "# mendefine list location_id yang akan digunakan untuk mengenerate lokasi user dan seller\n",
    "location_id = [3171,3172,3173,3174,3175,3573,3578,3471,3273,1371,1375,6471,6472,7371,5171]"
   ]
  },
  {
   "attachments": {},
   "cell_type": "markdown",
   "metadata": {},
   "source": [
    "**Insert Data Faker User Seller**"
   ]
  },
  {
   "cell_type": "code",
   "execution_count": 82,
   "metadata": {},
   "outputs": [],
   "source": [
    "for i in range(100):\n",
    "    name = fake.name()\n",
    "    contact = fake.phone_number()\n",
    "    location = random.choice(location_id)\n",
    "    user = (i+1, name, contact, location)\n",
    "    cur.execute(\"INSERT INTO dim_user_seller(user_id, name, contact, location_id) VALUES (%s, %s, %s, %s)\", user)\n",
    "    conn.commit()\n"
   ]
  },
  {
   "cell_type": "code",
   "execution_count": 83,
   "metadata": {},
   "outputs": [],
   "source": [
    "for i in range(100):\n",
    "    name = fake.name()\n",
    "    contact = fake.phone_number()\n",
    "    location = random.choice(location_id)\n",
    "    user = (i+1, name, contact, location)\n",
    "    cur.execute(\"INSERT INTO dim_user_buyyer(user_id, name, contact, location_id) VALUES (%s, %s, %s, %s)\", user)\n",
    "    conn.commit()\n"
   ]
  },
  {
   "cell_type": "code",
   "execution_count": 87,
   "metadata": {},
   "outputs": [],
   "source": [
    "titles = [\"mobil bekas\", \"jual mobil\", \"jual mobil bekas\", \"jual beli mobil\", \"mobil second\", \"mobil\", \"jual beli mobil bekas\", \"mobil bekas jakarta\", \"mobil bekas murah\", \"mobil murah\", \"jual mobil second\", \"mobil bekas berkualitas\", \"jual mobil murah\", \"jual mobil jakarta\", \"toyota\", \"mobil dijual\", \"mobil bekas surabaya\", \"honda\", \"otomotif\", \"mobil bekas dijual\", \"mobil baru\", \"jual mobil mewah\", \"jakarta\", \"indonesia\", \"jual mobil surabaya\", \"beli mobil\", \"jual mobil bekas jakarta\", \"mobkas\", \"daihatsu\", \"mobil mewah\"]\n"
   ]
  },
  {
   "cell_type": "code",
   "execution_count": 90,
   "metadata": {},
   "outputs": [],
   "source": [
    "cursor = conn.cursor()\n",
    "for i in range(1000):\n",
    "    ad_id = i+1\n",
    "    product_id = fake.random_int(min=1, max=50)\n",
    "    user_id = fake.random_int(min=1, max=100)\n",
    "    title = fake.random_element(titles)\n",
    "    description = fake.paragraph(nb_sentences=5)\n",
    "    price_sell = fake.random_int(min=100000000, max=400000000)\n",
    "    date_created = fake.date_time_between(start_date='-1y', end_date='now')\n",
    "    query = f\"INSERT INTO public.fact_advertisement VALUES ({ad_id}, {product_id}, {user_id}, '{title}', '{description}', {price_sell}, '{date_created}')\"\n",
    "    cursor.execute(query)\n",
    "\n",
    "# Commit changes and close connection\n",
    "conn.commit()\n",
    "cursor.close()\n",
    "conn.close()"
   ]
  },
  {
   "cell_type": "code",
   "execution_count": 100,
   "metadata": {},
   "outputs": [],
   "source": [
    "cursor = conn.cursor()\n",
    "for i in range(300):\n",
    "    bid_buyer_id = i+1\n",
    "    user_id_buyer = fake.random_int(min=1, max=70)\n",
    "    product_id = fake.random_int(min=1, max=50)\n",
    "    bid_price = fake.random_int(min=100000000, max=400000000)\n",
    "    date_created = fake.date_time_between(start_date='-1y', end_date='now')\n",
    "    query = f\"INSERT INTO public.dim_bid_buyer VALUES ({bid_buyer_id}, {user_id_buyer}, {product_id}, {bid_price}, '{date_created}')\"\n",
    "    cursor.execute(query)\n",
    "\n",
    "# Commit changes and close connection\n",
    "conn.commit()\n",
    "cursor.close()\n",
    "conn.close()"
   ]
  },
  {
   "cell_type": "code",
   "execution_count": 112,
   "metadata": {},
   "outputs": [],
   "source": [
    "location_interest = random.choice(location_id) "
   ]
  },
  {
   "cell_type": "code",
   "execution_count": 6,
   "metadata": {},
   "outputs": [],
   "source": [
    "# Mengisi tabel \"fact_interest\" dengan 1000 baris data palsu\n",
    "for i in range(1000):\n",
    "    interest_id = i + 1\n",
    "    user_id_buyer = random.randint(1, 70)  # Angka 1-70 sebagai user_id_buyer\n",
    "    product_id = random.randint(1, 50)  # Angka 1-50 sebagai product_id\n",
    "    location_interest = random.choice(location_id)  # Memilih lokasi secara acak\n",
    "    date_created = fake.date_time_between(start_date='-1y', end_date='now')  # Waktu antara 1 tahun yang lalu dan sekarang\n",
    "    # Menyimpan data palsu ke database\n",
    "    cur.execute(\"INSERT INTO public.fact_interest (interest_id, user_id_buyer, product_id, location_id, date_created) VALUES (%s, %s, %s, %s, %s)\", (interest_id, user_id_buyer, product_id, location_interest, date_created))\n",
    "\n",
    "# Menyimpan perubahan ke database\n",
    "conn.commit()\n"
   ]
  },
  {
   "cell_type": "code",
   "execution_count": 106,
   "metadata": {},
   "outputs": [],
   "source": [
    "conn.rollback()  # rollback the current transaction\n",
    "cur = conn.cursor()  # create a new cursor object"
   ]
  },
  {
   "attachments": {},
   "cell_type": "markdown",
   "metadata": {},
   "source": [
    "**Langkah #4 - Creating Transactional Query**"
   ]
  },
  {
   "cell_type": "code",
   "execution_count": null,
   "metadata": {},
   "outputs": [],
   "source": [
    "## **Mencari Kendaraan Tahun >= 2015**\n",
    "\"\"\"\n",
    "select dp.product_id, dp.brand, dp.model, dp.year, fa.price_sell\n",
    "from fact_advertisement fa \n",
    "join dim_product dp using(product_id)\n",
    "where dp.year >= 2015\n",
    "\"\"\"\n",
    "\n",
    "## \n",
    "\"\"\"\n",
    "insert into dim_bid_buyer (bid_buyer_id ,user_id_buyer, \n",
    "product_id, bid_price, date_created)\n",
    "values (301, 29,10,188888888,'2022-05-15 16:00:25.000')\n",
    "\"\"\"\n",
    "\n",
    "## Contoh: Mobil yang dijual oleh akun oni putra\n",
    "\"\"\"\n",
    "select dp.product_id , dp.brand , dp.model , dp.\"year\" ,\n",
    "fa.price_sell as price, fa.date_created as date_post\n",
    "from fact_advertisement fa\n",
    "join dim_product dp using (product_id)\n",
    "join dim_user_seller dus  using (user_id)\n",
    "where dus.\"name\" = 'Oni Putra'\n",
    "order by fa.date_created desc\n",
    "\"\"\"\n",
    "\n",
    "## Mencari mobil bekas yang termurah berdasarkan keyword\n",
    "\"\"\"\n",
    "select dp.product_id , dp.brand , dp.model , dp.\"year\" ,\n",
    "fa.price_sell as price, fa.date_created as date_post\n",
    "from fact_advertisement fa\n",
    "join dim_product dp using (product_id)\n",
    "join dim_user_seller dus  using (user_id)\n",
    "where dp.model = 'Toyota Agya'\n",
    "order by fa.price_sell asc  \n",
    "\"\"\"\n",
    "\n",
    "## Mencari mobil bekas yang terdekat berdasarkan sebuah id kota, jarak terdekat dihitung berdasarkan latitude longitude\n",
    "## dengan catatan kota referensi tersebut dimasukan sehingga jarak yang dihitung adalah antar kota tersebut \n",
    "\"\"\"WITH city_location AS (\n",
    "  ## CTE untuk menyimpan latitude dan longitude kota referensi\n",
    "  SELECT longitude, latitude\n",
    "  FROM dim_location\n",
    "  WHERE location_id = 3173 ## id kota referensi\n",
    ")\n",
    "SELECT dp.product_id, dp.brand, dp.model, dp.\"year\", fa.price_sell as price, \n",
    "       fa.date_created as date_post, dl.longitude, dl.latitude,\n",
    "       SQRT(POW(dl.latitude - cl.latitude, 2) + POW(dl.longitude - cl.longitude, 2)) as jarak\n",
    "FROM fact_advertisement fa\n",
    "JOIN dim_product dp USING (product_id)\n",
    "JOIN dim_user_seller dus USING (user_id)\n",
    "JOIN dim_location dl ON dus.location_id = dl.location_id \n",
    "CROSS JOIN city_location cl ## melakukan cross join dengan CTE city_location\n",
    "WHERE dus.location_id <> 3173 ## hanya mencari mobil bekas di luar kota referensi\n",
    "ORDER BY jarak ASC ## mengurutkan hasil berdasarkan jarak dan harga jual\n",
    "\"\"\""
   ]
  },
  {
   "attachments": {},
   "cell_type": "markdown",
   "metadata": {},
   "source": [
    "**Langkah #5 - Creating Analytical Query**"
   ]
  },
  {
   "cell_type": "code",
   "execution_count": null,
   "metadata": {},
   "outputs": [],
   "source": [
    "## Test 1\n",
    "## Ranking popularitas model mobil berdasarkan jumlah bid\n",
    "\n",
    "\"\"\"\n",
    "with product_bid as (\n",
    "select product_id, count(product_id) as count_bid_product from dim_bid_buyer dbb \n",
    "group by product_id order by count(product_id) desc \n",
    "),\n",
    "product_sell as \n",
    "(\n",
    "select product_id , count(product_id) as count_product_sell from fact_advertisement\n",
    "group by product_id \n",
    ")\n",
    "select product_id, count_bid_product, count_product_sell\n",
    "from product_bid\n",
    "join product_sell using (product_id)\n",
    "order by count_bid_product desc\n",
    "\"\"\"\n",
    "\n",
    "## Test 2\n",
    "## Membandingkan harga mobil berdasarkan harga rata-rata per kota\n",
    "\"\"\"\n",
    "SELECT dl.city, dp.brand, dp.model, dp.\"year\",\n",
    "       AVG(fa.price_sell) OVER (PARTITION BY dl.city) AS avg_price\n",
    "FROM fact_advertisement fa\n",
    "JOIN dim_product dp USING (product_id)\n",
    "JOIN dim_user_seller dus USING (user_id)\n",
    "JOIN dim_location dl ON dus.location_id = dl.location_id\n",
    "order by dp.\"year\" desc\n",
    " \"\"\"\n",
    "\n",
    " \n",
    "## Test 3\n",
    "## Dari penawaran suatu model mobil, cari perbandingan tanggal user melakukan bid \n",
    "## dengan bid selanjutnya beserta harga tawar yang diberikan\n",
    "\"\"\"\n",
    "with cte as \n",
    "(\n",
    "SELECT dp.model, dbb.user_id_buyer, dbb.date_created AS bid_date, \n",
    "       LEAD(dbb.date_created) OVER (PARTITION BY dp.model, dbb.user_id_buyer ORDER BY dbb.date_created) AS next_bid_date,\n",
    "       dbb.bid_price, \n",
    "       LEAD(dbb.bid_price) OVER (PARTITION BY dp.model, dbb.user_id_buyer ORDER BY dbb.date_created) AS next_bid_price\n",
    "FROM dim_bid_buyer dbb\n",
    "JOIN dim_product dp ON dbb.product_id = dp.product_id\n",
    "WHERE dp.model = 'Toyota Yaris' \n",
    ")\n",
    "select * from cte \n",
    "where next_bid_date is not null and next_bid_price is not null\n",
    "ORDER BY cte.user_id_buyer, cte.bid_date;\n",
    "\"\"\"\n",
    "\n",
    "## Test 4\n",
    "## Membandingkan persentase perbedaan rata-rata harga mobil berdasarkan modelnya \n",
    "## dan rata-rata harga bid yang ditawarkan oleh customer pada 6 bulan terakhir \n",
    "\n",
    "\"\"\" WITH cte_avg_price AS (\n",
    "## Menghitung Harga Rata-Rata mobil\n",
    "SELECT dp.brand, dp.model, AVG(fa.price_sell) AS avg_price\n",
    "  FROM fact_advertisement fa\n",
    "  JOIN dim_product dp USING (product_id)\n",
    "  GROUP BY dp.brand, dp.model\n",
    "), \n",
    "cte_avg_bid AS (\n",
    "SELECT dp.brand, dp.model, \n",
    "AVG(dbb.bid_price) AS avg_bid_6month\n",
    "FROM dim_bid_buyer dbb\n",
    "JOIN dim_product dp ON dbb.product_id = dp.product_id\n",
    "WHERE dbb.date_created >= NOW() - INTERVAL '6 months'\n",
    "group by dp.brand, dp.model\n",
    ")\n",
    "select \n",
    "cte_avg_price.brand, \n",
    "cte_avg_price.model, \n",
    "ROUND(cte_avg_price.avg_price,2) as avg_price,\n",
    "ROUND(cte_avg_bid.avg_bid_6month,2) as avg_bid_6month,\n",
    "ROUND(cte_avg_price.avg_price - cte_avg_bid.avg_bid_6month, 2) AS difference,\n",
    "ROUND(((cte_avg_price.avg_price - cte_avg_bid.avg_bid_6month) / cte_avg_price.avg_price ) * 100, 2) AS difference_percent\n",
    "from cte_avg_price\n",
    "join cte_avg_bid using (model)\n",
    "order by cte_avg_price.brand\n",
    "\"\"\"\n",
    "\n",
    "## Test 5\n",
    "## Membuat  rata-rata harga bid sebuah merk dan model mobil selama 6 bulan terakhir\n",
    "\"\"\"\n",
    "SELECT dp.brand, dp.model,\n",
    "       AVG(CASE WHEN dbb.date_created BETWEEN NOW() - INTERVAL '6 months' AND NOW() \n",
    "                THEN dbb.bid_price ELSE NULL END) AS m_min_1,\n",
    "       AVG(CASE WHEN dbb.date_created BETWEEN NOW() - INTERVAL '6 months' - INTERVAL '1 month' AND NOW() - INTERVAL '1 month'\n",
    "                THEN dbb.bid_price ELSE NULL END) AS m_min_2,\n",
    "       AVG(CASE WHEN dbb.date_created BETWEEN NOW() - INTERVAL '6 months' - INTERVAL '2 months' AND NOW() - INTERVAL '2 months'\n",
    "                THEN dbb.bid_price ELSE NULL END) AS m_min_3,\n",
    "       AVG(CASE WHEN dbb.date_created BETWEEN NOW() - INTERVAL '6 months' - INTERVAL '3 months' AND NOW() - INTERVAL '3 months'\n",
    "                THEN dbb.bid_price ELSE NULL END) AS m_min_4,\n",
    "       AVG(CASE WHEN dbb.date_created BETWEEN NOW() - INTERVAL '6 months' - INTERVAL '4 months' AND NOW() - INTERVAL '4 months'\n",
    "                THEN dbb.bid_price ELSE NULL END) AS m_min_5,\n",
    "       AVG(CASE WHEN dbb.date_created BETWEEN NOW() - INTERVAL '6 months' - INTERVAL '5 months' AND NOW() - INTERVAL '5 months'\n",
    "                THEN dbb.bid_price ELSE NULL END) AS m_min_6\n",
    "FROM dim_bid_buyer dbb\n",
    "JOIN dim_product dp ON dbb.product_id = dp.product_id\n",
    "WHERE dbb.date_created >= NOW() - INTERVAL '6 months'\n",
    "GROUP BY dp.brand, dp.model\n",
    "\"\"\""
   ]
  }
 ],
 "metadata": {
  "kernelspec": {
   "display_name": "Python 3",
   "language": "python",
   "name": "python3"
  },
  "language_info": {
   "codemirror_mode": {
    "name": "ipython",
    "version": 3
   },
   "file_extension": ".py",
   "mimetype": "text/x-python",
   "name": "python",
   "nbconvert_exporter": "python",
   "pygments_lexer": "ipython3",
   "version": "3.11.3"
  },
  "orig_nbformat": 4
 },
 "nbformat": 4,
 "nbformat_minor": 2
}
